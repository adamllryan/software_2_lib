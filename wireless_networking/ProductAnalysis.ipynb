{
 "cells": [
  {
   "cell_type": "markdown",
   "id": "88f0aeac-6720-4f71-a903-aeb810a9ae22",
   "metadata": {},
   "source": [
    "# First step is to import the data. Additionally, let's import all of the libraries we need. "
   ]
  },
  {
   "cell_type": "code",
   "execution_count": 1,
   "id": "0fc2895c-66a0-4c61-932a-8bacaaa5f4db",
   "metadata": {},
   "outputs": [],
   "source": [
    "import pandas as pd\n",
    "import csv\n",
    "import time\n",
    "import functools as ft\n",
    "import matplotlib.pyplot as plt\n",
    "import seaborn as sns\n",
    "# This is to ignore depreciation warnings. Not recommended for actual projects\n",
    "import warnings\n",
    "warnings.filterwarnings(\"ignore\")"
   ]
  },
  {
   "cell_type": "code",
   "execution_count": 2,
   "id": "3e78d426-8b4b-40fd-9b23-ec7fab39f389",
   "metadata": {},
   "outputs": [],
   "source": [
    "path = \"rtings_data.csv\"\n",
    "data = pd.read_csv(path)"
   ]
  },
  {
   "cell_type": "markdown",
   "id": "6024ff53-25ca-44fd-aea6-040a4e37a059",
   "metadata": {},
   "source": [
    "# Next, we need to clean all the data. \n",
    "Some fields that need to be removed are stored in bad_columns. We drop these. \n",
    "Then we replace all instances of \"No\" with False and \"Yes with True. "
   ]
  },
  {
   "cell_type": "code",
   "execution_count": 3,
   "id": "672e3395-6de4-4f31-885b-3904339a6375",
   "metadata": {},
   "outputs": [
    {
     "name": "stdout",
     "output_type": "stream",
     "text": [
      "(289, 29)\n"
     ]
    }
   ],
   "source": [
    "bad_columns = [\"product_price_href\", \"web-scraper-order\", \"web-scraper-start-url\", \"price_text_button\", \"test_methodology_version\", \"ios_support\", \"android_support\", \"os_compatibility\"]\n",
    "to_remove = [column for column in bad_columns if column in data.columns]\n",
    "data = data.drop(columns=to_remove)\n",
    "\n",
    "data = data.replace(\"No\", False)\n",
    "data = data.replace(\"Yes\", True)\n",
    "\n",
    "print(data.shape)"
   ]
  },
  {
   "cell_type": "markdown",
   "id": "27f5ee3b-6c56-44fe-9086-dc2243b52744",
   "metadata": {},
   "source": [
    "This lists all the brands of headphones we collected. "
   ]
  },
  {
   "cell_type": "code",
   "execution_count": 4,
   "id": "48cc1509-6355-4509-82de-8451dc1d964f",
   "metadata": {},
   "outputs": [
    {
     "name": "stdout",
     "output_type": "stream",
     "text": [
      "['Sony' 'Razer' 'EPOS' 'Bose' 'Astro' 'Sennheiser' 'Anker' 'Logitech'\n",
      " 'HyperX' 'SteelSeries' 'Apple' 'Google' 'JBL' 'EarFun' 'Samsung'\n",
      " 'Bowers & Wilkins' 'Jabra' 'Devialet' 'Raycon' 'Bang & Olufsen' 'Focal'\n",
      " 'Audeze' 'Beats' 'Shure' 'Wyze' 'Skullcandy' 'TOZO' 'Xbox' 'Corsair'\n",
      " 'Amazon' 'Nothing' 'Shokz' 'Denon' 'Jaybird' 'Dyson' 'JLab Audio'\n",
      " 'Turtle Beach' 'OnePlus' 'Status' 'Audio-Technica' 'AfterShokz' 'AKG'\n",
      " 'Avantree' 'Insignia' 'TREBLAB' 'Ultimate Ears' 'FIIL' 'Cowin'\n",
      " 'Plantronics' 'Mpow' 'Creative' 'TaoTronics' 'SoundPeats' 'ROCCAT'\n",
      " 'Klipsch' 'Cambridge Audio' 'Drop']\n",
      "57\n"
     ]
    }
   ],
   "source": [
    "brands = data[\"brand_name\"].unique()\n",
    "print(brands)\n",
    "print(len(brands))"
   ]
  },
  {
   "cell_type": "markdown",
   "id": "0c10519b-738d-42c9-ad2e-2a79a0553661",
   "metadata": {},
   "source": [
    "# Here is where we compile all the operating system support (cross-compatibility). \n",
    "Here, I take windows and macOS support and then OR it with bluetooth rating being greater than 0. \n",
    "I also print out all of the headphones that only have one operating system being supported. \n",
    "Notice that all of the headphones are targetted towards gaming, so they likely use dongles. "
   ]
  },
  {
   "cell_type": "code",
   "execution_count": 5,
   "id": "777adfa8-2ffd-41ef-a167-fe2ed034799f",
   "metadata": {},
   "outputs": [
    {
     "name": "stdout",
     "output_type": "stream",
     "text": [
      "There are 283 headphones with Windows support. \n",
      "There are 275 headphones with macOS support. \n",
      "HyperX Cloud III Wireless only supports Windows. \n",
      "HyperX Cloud Alpha Wireless only supports Windows. \n",
      "HyperX Cloud 2/Cloud II Wireless only supports Windows. \n",
      "Razer Kraken V3 Pro Wireless only supports Windows. \n",
      "HyperX Cloud Flight only supports Windows. \n",
      "ROCCAT Elo 7.1 Air Wireless only supports Windows. \n",
      "HyperX Cloud Flight S only supports Windows. \n",
      "Razer Nari Ultimate Wireless only supports Windows. \n"
     ]
    }
   ],
   "source": [
    "os_support = pd.DataFrame()\n",
    "os_support[\"product_name\"] = data[\"product_name\"]\n",
    "# If bluetooth rating is > 0, there is bluetooth support. Bluetooth support is universal\n",
    "os_support[\"windows\"] = data[\"windows_support\"]|(data[\"bluetooth_rating\"]>0)\n",
    "os_support[\"macos\"] = data[\"macos_support\"]|(data[\"bluetooth_rating\"]>0)\n",
    "os_support[\"universal\"] = os_support[\"macos\"]&os_support[\"windows\"]\n",
    "os_support[\"bluetooth\"] = data[\"bluetooth_rating\"]>0\n",
    "# Analysis\n",
    "print(\"There are {} headphones with Windows support. \".format(os_support.windows.value_counts()[True]))\n",
    "print(\"There are {} headphones with macOS support. \".format(os_support.macos.value_counts()[True]))\n",
    "for index, row in os_support.iterrows():\n",
    "    if row[\"windows\"] and not row[\"macos\"]:\n",
    "        print(\"{} only supports Windows. \".format(row[\"product_name\"]))\n",
    "    elif row[\"macos\"] and not row[\"windows\"]:\n",
    "        print(\"{} only supports Windows. \".format(row[\"product_name\"]))"
   ]
  },
  {
   "cell_type": "markdown",
   "id": "cdfea25f-b2ae-4898-a1eb-b395090e0571",
   "metadata": {},
   "source": [
    "# We determine sound quality at this stage. \n",
    "We multiply all of the values (out of 10) together.\n",
    "Then we divide by max to get a score out of 1. "
   ]
  },
  {
   "cell_type": "code",
   "execution_count": 6,
   "id": "87966284-afef-41c8-af98-72999dd60940",
   "metadata": {},
   "outputs": [
    {
     "data": {
      "text/html": [
       "<div>\n",
       "<style scoped>\n",
       "    .dataframe tbody tr th:only-of-type {\n",
       "        vertical-align: middle;\n",
       "    }\n",
       "\n",
       "    .dataframe tbody tr th {\n",
       "        vertical-align: top;\n",
       "    }\n",
       "\n",
       "    .dataframe thead th {\n",
       "        text-align: right;\n",
       "    }\n",
       "</style>\n",
       "<table border=\"1\" class=\"dataframe\">\n",
       "  <thead>\n",
       "    <tr style=\"text-align: right;\">\n",
       "      <th></th>\n",
       "      <th>product_name</th>\n",
       "      <th>frc</th>\n",
       "      <th>pd</th>\n",
       "      <th>neutral</th>\n",
       "      <th>sound_quality</th>\n",
       "    </tr>\n",
       "  </thead>\n",
       "  <tbody>\n",
       "    <tr>\n",
       "      <th>130</th>\n",
       "      <td>Samsung Galaxy Buds+ Truly Wireless</td>\n",
       "      <td>9.6</td>\n",
       "      <td>8.7</td>\n",
       "      <td>7.9</td>\n",
       "      <td>1.000000</td>\n",
       "    </tr>\n",
       "    <tr>\n",
       "      <th>52</th>\n",
       "      <td>Jabra Elite 7 Active True Wireless</td>\n",
       "      <td>9.5</td>\n",
       "      <td>9.1</td>\n",
       "      <td>7.6</td>\n",
       "      <td>0.995775</td>\n",
       "    </tr>\n",
       "    <tr>\n",
       "      <th>46</th>\n",
       "      <td>Jabra Elite 7 Pro True Wireless</td>\n",
       "      <td>9.1</td>\n",
       "      <td>9.0</td>\n",
       "      <td>7.8</td>\n",
       "      <td>0.968191</td>\n",
       "    </tr>\n",
       "    <tr>\n",
       "      <th>282</th>\n",
       "      <td>TaoTronics SoundLiberty 79 Truly Wireless</td>\n",
       "      <td>9.9</td>\n",
       "      <td>8.7</td>\n",
       "      <td>7.4</td>\n",
       "      <td>0.965981</td>\n",
       "    </tr>\n",
       "    <tr>\n",
       "      <th>200</th>\n",
       "      <td>JBL LIVE 300TWS Truly Wireless</td>\n",
       "      <td>9.9</td>\n",
       "      <td>8.6</td>\n",
       "      <td>7.3</td>\n",
       "      <td>0.941974</td>\n",
       "    </tr>\n",
       "  </tbody>\n",
       "</table>\n",
       "</div>"
      ],
      "text/plain": [
       "                                  product_name  frc   pd  neutral  \\\n",
       "130        Samsung Galaxy Buds+ Truly Wireless  9.6  8.7      7.9   \n",
       "52          Jabra Elite 7 Active True Wireless  9.5  9.1      7.6   \n",
       "46             Jabra Elite 7 Pro True Wireless  9.1  9.0      7.8   \n",
       "282  TaoTronics SoundLiberty 79 Truly Wireless  9.9  8.7      7.4   \n",
       "200             JBL LIVE 300TWS Truly Wireless  9.9  8.6      7.3   \n",
       "\n",
       "     sound_quality  \n",
       "130       1.000000  \n",
       "52        0.995775  \n",
       "46        0.968191  \n",
       "282       0.965981  \n",
       "200       0.941974  "
      ]
     },
     "execution_count": 6,
     "metadata": {},
     "output_type": "execute_result"
    }
   ],
   "source": [
    "# Normalized sound quality score using two scores out of 10\n",
    "sound_quality = pd.DataFrame()\n",
    "sq = sound_quality\n",
    "sq[\"product_name\"] = data[\"product_name\"]\n",
    "sq[\"frc\"] = data[\"frequency_response_consistency\"]\n",
    "sq[\"pd\"] = data[\"peaks_dips\"]\n",
    "sq[\"neutral\"] = data[\"neutral_sound\"]\n",
    "\n",
    "sq[\"sound_quality\"] = sq[\"pd\"]*sq[\"frc\"]*sq[\"neutral\"]\n",
    "sq[\"sound_quality\"] = sq[\"sound_quality\"]/max(sq[\"sound_quality\"])\n",
    "sq = sq.sort_values(by=[\"sound_quality\"], ascending=False)\n",
    "sq.head()\n",
    "\n"
   ]
  },
  {
   "cell_type": "markdown",
   "id": "d95fa3ce-91f8-4820-9c2a-4113b4d87ce0",
   "metadata": {},
   "source": [
    "Here is an insight into latency between devices. "
   ]
  },
  {
   "cell_type": "code",
   "execution_count": 7,
   "id": "315acce6-8f3e-40a5-b17c-4175814b6e45",
   "metadata": {},
   "outputs": [
    {
     "name": "stdout",
     "output_type": "stream",
     "text": [
      "Top 5 lowest latency devices:\n",
      "4.  EPOS GTW 270 Hybrid Truly Wireless 104.0  ms\n",
      "229.  Sennheiser HD 4.40 BT Wireless 124.5  ms\n",
      "187.  Sennheiser PXC 550-II Wireless 133.5  ms\n",
      "241.  Sony WH-CH700N Wireless 169.0  ms\n",
      "50.  Shure AONIC 50 Wireless 173.5  ms\n"
     ]
    },
    {
     "data": {
      "text/html": [
       "<div>\n",
       "<style scoped>\n",
       "    .dataframe tbody tr th:only-of-type {\n",
       "        vertical-align: middle;\n",
       "    }\n",
       "\n",
       "    .dataframe tbody tr th {\n",
       "        vertical-align: top;\n",
       "    }\n",
       "\n",
       "    .dataframe thead th {\n",
       "        text-align: right;\n",
       "    }\n",
       "</style>\n",
       "<table border=\"1\" class=\"dataframe\">\n",
       "  <thead>\n",
       "    <tr style=\"text-align: right;\">\n",
       "      <th></th>\n",
       "      <th>product_name</th>\n",
       "      <th>aptx</th>\n",
       "      <th>sbc</th>\n",
       "      <th>avg</th>\n",
       "      <th>l_score</th>\n",
       "    </tr>\n",
       "  </thead>\n",
       "  <tbody>\n",
       "    <tr>\n",
       "      <th>3</th>\n",
       "      <td>EPOS GTW 270 Hybrid Truly Wireless</td>\n",
       "      <td>108.0</td>\n",
       "      <td>100.0</td>\n",
       "      <td>104.0</td>\n",
       "      <td>1.000000</td>\n",
       "    </tr>\n",
       "    <tr>\n",
       "      <th>228</th>\n",
       "      <td>Sennheiser HD 4.40 BT Wireless</td>\n",
       "      <td>118.0</td>\n",
       "      <td>131.0</td>\n",
       "      <td>124.5</td>\n",
       "      <td>0.945114</td>\n",
       "    </tr>\n",
       "    <tr>\n",
       "      <th>186</th>\n",
       "      <td>Sennheiser PXC 550-II Wireless</td>\n",
       "      <td>103.0</td>\n",
       "      <td>164.0</td>\n",
       "      <td>133.5</td>\n",
       "      <td>0.921017</td>\n",
       "    </tr>\n",
       "    <tr>\n",
       "      <th>240</th>\n",
       "      <td>Sony WH-CH700N Wireless</td>\n",
       "      <td>156.0</td>\n",
       "      <td>182.0</td>\n",
       "      <td>169.0</td>\n",
       "      <td>0.825971</td>\n",
       "    </tr>\n",
       "    <tr>\n",
       "      <th>49</th>\n",
       "      <td>Shure AONIC 50 Wireless</td>\n",
       "      <td>171.0</td>\n",
       "      <td>176.0</td>\n",
       "      <td>173.5</td>\n",
       "      <td>0.813922</td>\n",
       "    </tr>\n",
       "  </tbody>\n",
       "</table>\n",
       "</div>"
      ],
      "text/plain": [
       "                           product_name   aptx    sbc    avg   l_score\n",
       "3    EPOS GTW 270 Hybrid Truly Wireless  108.0  100.0  104.0  1.000000\n",
       "228      Sennheiser HD 4.40 BT Wireless  118.0  131.0  124.5  0.945114\n",
       "186      Sennheiser PXC 550-II Wireless  103.0  164.0  133.5  0.921017\n",
       "240             Sony WH-CH700N Wireless  156.0  182.0  169.0  0.825971\n",
       "49              Shure AONIC 50 Wireless  171.0  176.0  173.5  0.813922"
      ]
     },
     "execution_count": 7,
     "metadata": {},
     "output_type": "execute_result"
    }
   ],
   "source": [
    "latency = pd.DataFrame()\n",
    "latency[\"product_name\"] = data[\"product_name\"]\n",
    "latency[\"aptx\"] = data[\"latency_aptx\"].str.split(\" ms\", n=1, expand=True)[0].astype(float)\n",
    "latency[\"sbc\"] = data[\"latency_sbc\"].str.split(\" ms\", n=1, expand=True)[0].astype(float)\n",
    "\n",
    "latency[\"avg\"] = (latency[\"aptx\"]+latency[\"sbc\"])/2\n",
    "latency.head()\n",
    "latency = latency.sort_values(by=[\"avg\"])\n",
    "top_5 = latency.head()\n",
    "print(\"Top 5 lowest latency devices:\")\n",
    "for idx, i in top_5.iterrows():\n",
    "    print(str(idx+1)+ \". \", i[\"product_name\"], i[\"avg\"], \" ms\")\n",
    "latency[\"l_score\"] = 1-(latency[\"avg\"]-min(latency[\"avg\"]))/max(latency[\"avg\"])\n",
    "latency.sort_values(by=[\"l_score\"], ascending=False).head()"
   ]
  },
  {
   "cell_type": "markdown",
   "id": "22907802-202d-4929-94f4-1d464a3b9818",
   "metadata": {},
   "source": [
    "# We calculate an age score below. \n",
    "We assign bluetooth codec version to an integer and then map the version to our value. \n",
    "We also get the age of our product and then combine them into a score out of 1. \n",
    "See how Apple products compare to other options below."
   ]
  },
  {
   "cell_type": "code",
   "execution_count": 8,
   "id": "31e72b43-ed9f-486f-a57a-47971d8344f2",
   "metadata": {},
   "outputs": [
    {
     "data": {
      "text/html": [
       "<div>\n",
       "<style scoped>\n",
       "    .dataframe tbody tr th:only-of-type {\n",
       "        vertical-align: middle;\n",
       "    }\n",
       "\n",
       "    .dataframe tbody tr th {\n",
       "        vertical-align: top;\n",
       "    }\n",
       "\n",
       "    .dataframe thead th {\n",
       "        text-align: right;\n",
       "    }\n",
       "</style>\n",
       "<table border=\"1\" class=\"dataframe\">\n",
       "  <thead>\n",
       "    <tr style=\"text-align: right;\">\n",
       "      <th></th>\n",
       "      <th>product_name</th>\n",
       "      <th>brand_name</th>\n",
       "      <th>bluetooth</th>\n",
       "      <th>year</th>\n",
       "      <th>age_score</th>\n",
       "    </tr>\n",
       "  </thead>\n",
       "  <tbody>\n",
       "    <tr>\n",
       "      <th>16</th>\n",
       "      <td>Apple AirPods Pro (2nd generation) Truly Wireless</td>\n",
       "      <td>Apple</td>\n",
       "      <td>1.0</td>\n",
       "      <td>0.984375</td>\n",
       "      <td>0.984375</td>\n",
       "    </tr>\n",
       "    <tr>\n",
       "      <th>61</th>\n",
       "      <td>Apple AirPods Max Wireless</td>\n",
       "      <td>Apple</td>\n",
       "      <td>0.5</td>\n",
       "      <td>0.859375</td>\n",
       "      <td>0.429688</td>\n",
       "    </tr>\n",
       "    <tr>\n",
       "      <th>68</th>\n",
       "      <td>Apple AirPods (3rd generation) Truly Wireless</td>\n",
       "      <td>Apple</td>\n",
       "      <td>0.5</td>\n",
       "      <td>0.937500</td>\n",
       "      <td>0.468750</td>\n",
       "    </tr>\n",
       "    <tr>\n",
       "      <th>90</th>\n",
       "      <td>Apple AirPods Pro Truly Wireless</td>\n",
       "      <td>Apple</td>\n",
       "      <td>0.5</td>\n",
       "      <td>0.750000</td>\n",
       "      <td>0.375000</td>\n",
       "    </tr>\n",
       "    <tr>\n",
       "      <th>170</th>\n",
       "      <td>Apple AirPods (2nd generation) Truly Wireless</td>\n",
       "      <td>Apple</td>\n",
       "      <td>0.5</td>\n",
       "      <td>0.750000</td>\n",
       "      <td>0.375000</td>\n",
       "    </tr>\n",
       "  </tbody>\n",
       "</table>\n",
       "</div>"
      ],
      "text/plain": [
       "                                          product_name brand_name  bluetooth  \\\n",
       "16   Apple AirPods Pro (2nd generation) Truly Wireless      Apple        1.0   \n",
       "61                          Apple AirPods Max Wireless      Apple        0.5   \n",
       "68       Apple AirPods (3rd generation) Truly Wireless      Apple        0.5   \n",
       "90                    Apple AirPods Pro Truly Wireless      Apple        0.5   \n",
       "170      Apple AirPods (2nd generation) Truly Wireless      Apple        0.5   \n",
       "\n",
       "         year  age_score  \n",
       "16   0.984375   0.984375  \n",
       "61   0.859375   0.429688  \n",
       "68   0.937500   0.468750  \n",
       "90   0.750000   0.375000  \n",
       "170  0.750000   0.375000  "
      ]
     },
     "execution_count": 8,
     "metadata": {},
     "output_type": "execute_result"
    }
   ],
   "source": [
    "age = pd.DataFrame()\n",
    "bluetooth_map = {\n",
    "    \"No Bluetooth\": 0,\n",
    "    \"Unspecified\": 0,\n",
    "    \"4.0\": 1,\n",
    "    \"4.1\": 2,\n",
    "    \"4.2\": 3,\n",
    "    \"4.2 + W1 chip\": 3,\n",
    "    \"5.0\": 4,\n",
    "    \"5.0+H1 chip\": 4,\n",
    "    \"5.0+W1 chip\": 4,\n",
    "    \"5.010\": 5,\n",
    "    \"5.1\": 6,\n",
    "    \"5.2\": 7, \n",
    "    \"5.3\": 8,\n",
    "    \"5.3+H2 chip\": 8,\n",
    "}\n",
    "age[\"product_name\"] = data[\"product_name\"]\n",
    "age[\"brand_name\"] = data[\"brand_name\"]\n",
    "age[\"bluetooth\"] = data[\"bluetooth_version\"]\n",
    "age[\"year\"] = (2023-data[\"release_year\"])**2\n",
    "age[\"bluetooth\"] = age[\"bluetooth\"].map(bluetooth_map)\n",
    "\n",
    "age.head()\n",
    "age[\"year\"] = (max(age[\"year\"])-age[\"year\"])/max(age[\"year\"])\n",
    "age[\"bluetooth\"] = age[\"bluetooth\"]/max(age[\"bluetooth\"])\n",
    "age[\"age_score\"] = age[\"year\"]*age[\"bluetooth\"]\n",
    "age[\"age_score\"] = age[\"age_score\"]/max(age[\"age_score\"])\n",
    "age.sort_values(by=[\"age_score\"], ascending=False).head()\n",
    "\n",
    "\n",
    "age[age[\"brand_name\"]==\"Apple\"].head()\n",
    "\n"
   ]
  },
  {
   "cell_type": "code",
   "execution_count": 9,
   "id": "c940773a-528c-4388-a930-d4dc686618f2",
   "metadata": {},
   "outputs": [
    {
     "data": {
      "text/html": [
       "<div>\n",
       "<style scoped>\n",
       "    .dataframe tbody tr th:only-of-type {\n",
       "        vertical-align: middle;\n",
       "    }\n",
       "\n",
       "    .dataframe tbody tr th {\n",
       "        vertical-align: top;\n",
       "    }\n",
       "\n",
       "    .dataframe thead th {\n",
       "        text-align: right;\n",
       "    }\n",
       "</style>\n",
       "<table border=\"1\" class=\"dataframe\">\n",
       "  <thead>\n",
       "    <tr style=\"text-align: right;\">\n",
       "      <th></th>\n",
       "      <th>product_name</th>\n",
       "      <th>brand_name</th>\n",
       "      <th>bluetooth</th>\n",
       "      <th>year</th>\n",
       "      <th>age_score</th>\n",
       "    </tr>\n",
       "  </thead>\n",
       "  <tbody>\n",
       "    <tr>\n",
       "      <th>25</th>\n",
       "      <td>Sony WF-1000XM5 Truly Wireless</td>\n",
       "      <td>Sony</td>\n",
       "      <td>1.0</td>\n",
       "      <td>1.0</td>\n",
       "      <td>1.0</td>\n",
       "    </tr>\n",
       "    <tr>\n",
       "      <th>13</th>\n",
       "      <td>Bose QuietComfort Ultra Earbuds Truly Wireless</td>\n",
       "      <td>Bose</td>\n",
       "      <td>1.0</td>\n",
       "      <td>1.0</td>\n",
       "      <td>1.0</td>\n",
       "    </tr>\n",
       "    <tr>\n",
       "      <th>29</th>\n",
       "      <td>Bose QuietComfort Ultra Headphones Wireless</td>\n",
       "      <td>Bose</td>\n",
       "      <td>1.0</td>\n",
       "      <td>1.0</td>\n",
       "      <td>1.0</td>\n",
       "    </tr>\n",
       "    <tr>\n",
       "      <th>56</th>\n",
       "      <td>Anker Soundcore Space One Wireless</td>\n",
       "      <td>Anker</td>\n",
       "      <td>1.0</td>\n",
       "      <td>1.0</td>\n",
       "      <td>1.0</td>\n",
       "    </tr>\n",
       "    <tr>\n",
       "      <th>120</th>\n",
       "      <td>Nothing Ear (2) Truly Wireless</td>\n",
       "      <td>Nothing</td>\n",
       "      <td>1.0</td>\n",
       "      <td>1.0</td>\n",
       "      <td>1.0</td>\n",
       "    </tr>\n",
       "  </tbody>\n",
       "</table>\n",
       "</div>"
      ],
      "text/plain": [
       "                                       product_name brand_name  bluetooth  \\\n",
       "25                   Sony WF-1000XM5 Truly Wireless       Sony        1.0   \n",
       "13   Bose QuietComfort Ultra Earbuds Truly Wireless       Bose        1.0   \n",
       "29      Bose QuietComfort Ultra Headphones Wireless       Bose        1.0   \n",
       "56               Anker Soundcore Space One Wireless      Anker        1.0   \n",
       "120                  Nothing Ear (2) Truly Wireless    Nothing        1.0   \n",
       "\n",
       "     year  age_score  \n",
       "25    1.0        1.0  \n",
       "13    1.0        1.0  \n",
       "29    1.0        1.0  \n",
       "56    1.0        1.0  \n",
       "120   1.0        1.0  "
      ]
     },
     "execution_count": 9,
     "metadata": {},
     "output_type": "execute_result"
    }
   ],
   "source": [
    "age.sort_values(by=[\"age_score\"], ascending=False).head()"
   ]
  },
  {
   "cell_type": "markdown",
   "id": "138107d3-0cd8-40a8-8681-dcb1f0d127e5",
   "metadata": {},
   "source": [
    "# We get app support score here. \n",
    "It is the score out of 10, so divide by max. \n",
    "We can see Apple comparisons below. "
   ]
  },
  {
   "cell_type": "code",
   "execution_count": 10,
   "id": "c35f6cae-1a65-4b02-809b-ffbd96c4c765",
   "metadata": {},
   "outputs": [],
   "source": [
    "sp = pd.DataFrame()\n",
    "sp[\"product_name\"] = data[\"product_name\"]\n",
    "sp[\"brand_name\"] = data[\"brand_name\"]\n",
    "sp[\"app\"] = data[\"app_support\"]\n",
    "sp[\"app\"] = sp[\"app\"]/max(sp[\"app\"])"
   ]
  },
  {
   "cell_type": "code",
   "execution_count": 11,
   "id": "dd4d45b7-1580-433e-b24b-64f6707c3758",
   "metadata": {},
   "outputs": [
    {
     "data": {
      "text/html": [
       "<div>\n",
       "<style scoped>\n",
       "    .dataframe tbody tr th:only-of-type {\n",
       "        vertical-align: middle;\n",
       "    }\n",
       "\n",
       "    .dataframe tbody tr th {\n",
       "        vertical-align: top;\n",
       "    }\n",
       "\n",
       "    .dataframe thead th {\n",
       "        text-align: right;\n",
       "    }\n",
       "</style>\n",
       "<table border=\"1\" class=\"dataframe\">\n",
       "  <thead>\n",
       "    <tr style=\"text-align: right;\">\n",
       "      <th></th>\n",
       "      <th>product_name</th>\n",
       "      <th>brand_name</th>\n",
       "      <th>build_quality</th>\n",
       "    </tr>\n",
       "  </thead>\n",
       "  <tbody>\n",
       "    <tr>\n",
       "      <th>12</th>\n",
       "      <td>Logitech G PRO X 2 LIGHTSPEED Wireless</td>\n",
       "      <td>Logitech</td>\n",
       "      <td>1.000000</td>\n",
       "    </tr>\n",
       "    <tr>\n",
       "      <th>10</th>\n",
       "      <td>Sennheiser MOMENTUM 4 Wireless</td>\n",
       "      <td>Sennheiser</td>\n",
       "      <td>0.979381</td>\n",
       "    </tr>\n",
       "    <tr>\n",
       "      <th>113</th>\n",
       "      <td>SteelSeries Arctis 7+ Wireless</td>\n",
       "      <td>SteelSeries</td>\n",
       "      <td>0.958763</td>\n",
       "    </tr>\n",
       "    <tr>\n",
       "      <th>195</th>\n",
       "      <td>SteelSeries Arctis 7P+ Wireless</td>\n",
       "      <td>SteelSeries</td>\n",
       "      <td>0.958763</td>\n",
       "    </tr>\n",
       "    <tr>\n",
       "      <th>168</th>\n",
       "      <td>Razer Opus Wireless 2021</td>\n",
       "      <td>Razer</td>\n",
       "      <td>0.948454</td>\n",
       "    </tr>\n",
       "  </tbody>\n",
       "</table>\n",
       "</div>"
      ],
      "text/plain": [
       "                               product_name   brand_name  build_quality\n",
       "12   Logitech G PRO X 2 LIGHTSPEED Wireless     Logitech       1.000000\n",
       "10           Sennheiser MOMENTUM 4 Wireless   Sennheiser       0.979381\n",
       "113          SteelSeries Arctis 7+ Wireless  SteelSeries       0.958763\n",
       "195         SteelSeries Arctis 7P+ Wireless  SteelSeries       0.958763\n",
       "168                Razer Opus Wireless 2021        Razer       0.948454"
      ]
     },
     "execution_count": 11,
     "metadata": {},
     "output_type": "execute_result"
    }
   ],
   "source": [
    "bq = pd.DataFrame()\n",
    "bq[\"product_name\"] = data[\"product_name\"]\n",
    "bq[\"brand_name\"] = data[\"brand_name\"]\n",
    "bq[\"build_quality\"] = data[\"build_quality\"] * data[\"battery\"]\n",
    "bq[\"build_quality\"] = bq[\"build_quality\"]/max(bq[\"build_quality\"])\n",
    "bq.sort_values(by=[\"build_quality\"], ascending=False).head()"
   ]
  },
  {
   "cell_type": "code",
   "execution_count": 12,
   "id": "d6bb565c-75fb-4ca7-9df3-6aed51f415cf",
   "metadata": {},
   "outputs": [
    {
     "data": {
      "text/html": [
       "<div>\n",
       "<style scoped>\n",
       "    .dataframe tbody tr th:only-of-type {\n",
       "        vertical-align: middle;\n",
       "    }\n",
       "\n",
       "    .dataframe tbody tr th {\n",
       "        vertical-align: top;\n",
       "    }\n",
       "\n",
       "    .dataframe thead th {\n",
       "        text-align: right;\n",
       "    }\n",
       "</style>\n",
       "<table border=\"1\" class=\"dataframe\">\n",
       "  <thead>\n",
       "    <tr style=\"text-align: right;\">\n",
       "      <th></th>\n",
       "      <th>product_name</th>\n",
       "      <th>brand_name</th>\n",
       "      <th>app</th>\n",
       "    </tr>\n",
       "  </thead>\n",
       "  <tbody>\n",
       "    <tr>\n",
       "      <th>16</th>\n",
       "      <td>Apple AirPods Pro (2nd generation) Truly Wireless</td>\n",
       "      <td>Apple</td>\n",
       "      <td>0.722222</td>\n",
       "    </tr>\n",
       "    <tr>\n",
       "      <th>61</th>\n",
       "      <td>Apple AirPods Max Wireless</td>\n",
       "      <td>Apple</td>\n",
       "      <td>0.666667</td>\n",
       "    </tr>\n",
       "    <tr>\n",
       "      <th>68</th>\n",
       "      <td>Apple AirPods (3rd generation) Truly Wireless</td>\n",
       "      <td>Apple</td>\n",
       "      <td>0.555556</td>\n",
       "    </tr>\n",
       "    <tr>\n",
       "      <th>90</th>\n",
       "      <td>Apple AirPods Pro Truly Wireless</td>\n",
       "      <td>Apple</td>\n",
       "      <td>0.611111</td>\n",
       "    </tr>\n",
       "    <tr>\n",
       "      <th>170</th>\n",
       "      <td>Apple AirPods (2nd generation) Truly Wireless</td>\n",
       "      <td>Apple</td>\n",
       "      <td>0.555556</td>\n",
       "    </tr>\n",
       "  </tbody>\n",
       "</table>\n",
       "</div>"
      ],
      "text/plain": [
       "                                          product_name brand_name       app\n",
       "16   Apple AirPods Pro (2nd generation) Truly Wireless      Apple  0.722222\n",
       "61                          Apple AirPods Max Wireless      Apple  0.666667\n",
       "68       Apple AirPods (3rd generation) Truly Wireless      Apple  0.555556\n",
       "90                    Apple AirPods Pro Truly Wireless      Apple  0.611111\n",
       "170      Apple AirPods (2nd generation) Truly Wireless      Apple  0.555556"
      ]
     },
     "execution_count": 12,
     "metadata": {},
     "output_type": "execute_result"
    }
   ],
   "source": [
    "sp[sp[\"brand_name\"]==\"Apple\"].head()"
   ]
  },
  {
   "cell_type": "markdown",
   "id": "ed53da79-e489-40d9-a0df-7576841a0994",
   "metadata": {},
   "source": [
    "# Finally, we combine everything into a longevity score. \n",
    "We start by merging all dataframes together. "
   ]
  },
  {
   "cell_type": "code",
   "execution_count": 13,
   "id": "5adc85aa-1a85-4440-b7b6-6fb76e2579bd",
   "metadata": {},
   "outputs": [
    {
     "data": {
      "text/plain": [
       "'\\nruns = 0\\nfor sq in range(1,2):\\n    # print(sq,5)\\n    for bq in range(1,2):\\n        for age in range(1,2):\\n            for sp in range(1,2):\\n                # runs += 1\\n                # weights[\"sq\"] = sq\\n                # weights[\"bq\"] = bq\\n                # weights[\"age\"] = age\\n                # weights[\"sp\"] = sp\\n                \\n                # winners[\"wins\"] += w[\"bq\"]*l[\"build_quality\"]+w[\"sq\"]*l[\"sound_quality\"]+w[\"age\"]*l[\"age_score\"]+w[\"sp\"]*l[\"app\"]\\n                winners[\"sq\"] += w[\"sq\"] * sq * l[\"sound_quality\"]\\n                winners[\"bq\"] += w[\"bq\"] * bq * l[\"build_quality\"]\\n                winners[\"age\"] += w[\"age\"] * age * l[\"age_score\"]\\n                winners[\"sp\"] += sp * w[\"sp\"] * l[\"app\"]'"
      ]
     },
     "execution_count": 13,
     "metadata": {},
     "output_type": "execute_result"
    }
   ],
   "source": [
    "metrics = [sq, bq, age, sp]\n",
    "\n",
    "longevity = ft.reduce(lambda left, right: pd.merge(left, right, on=\"product_name\"), metrics)\n",
    "l = longevity\n",
    "\"\"\"\n",
    "runs = 0\n",
    "for sq in range(1,2):\n",
    "    # print(sq,5)\n",
    "    for bq in range(1,2):\n",
    "        for age in range(1,2):\n",
    "            for sp in range(1,2):\n",
    "                # runs += 1\n",
    "                # weights[\"sq\"] = sq\n",
    "                # weights[\"bq\"] = bq\n",
    "                # weights[\"age\"] = age\n",
    "                # weights[\"sp\"] = sp\n",
    "                \n",
    "                # winners[\"wins\"] += w[\"bq\"]*l[\"build_quality\"]+w[\"sq\"]*l[\"sound_quality\"]+w[\"age\"]*l[\"age_score\"]+w[\"sp\"]*l[\"app\"]\n",
    "                winners[\"sq\"] += w[\"sq\"] * sq * l[\"sound_quality\"]\n",
    "                winners[\"bq\"] += w[\"bq\"] * bq * l[\"build_quality\"]\n",
    "                winners[\"age\"] += w[\"age\"] * age * l[\"age_score\"]\n",
    "                winners[\"sp\"] += sp * w[\"sp\"] * l[\"app\"]\"\"\"\n"
   ]
  },
  {
   "cell_type": "markdown",
   "id": "b4b72e39-de00-481b-852c-fbc16a485472",
   "metadata": {},
   "source": [
    "# Next, we establish weights for each category before calculating vector distance from origin. \n",
    "This will assign the most well-rounded headphones with the highest scores. \n",
    "See Apple comparisons below. "
   ]
  },
  {
   "cell_type": "code",
   "execution_count": 14,
   "id": "fef5dad5-7365-4c92-87db-928013c014d0",
   "metadata": {},
   "outputs": [
    {
     "data": {
      "text/html": [
       "<div>\n",
       "<style scoped>\n",
       "    .dataframe tbody tr th:only-of-type {\n",
       "        vertical-align: middle;\n",
       "    }\n",
       "\n",
       "    .dataframe tbody tr th {\n",
       "        vertical-align: top;\n",
       "    }\n",
       "\n",
       "    .dataframe thead th {\n",
       "        text-align: right;\n",
       "    }\n",
       "</style>\n",
       "<table border=\"1\" class=\"dataframe\">\n",
       "  <thead>\n",
       "    <tr style=\"text-align: right;\">\n",
       "      <th></th>\n",
       "      <th>product</th>\n",
       "      <th>brand</th>\n",
       "      <th>sq</th>\n",
       "      <th>bq</th>\n",
       "      <th>age</th>\n",
       "      <th>sp</th>\n",
       "      <th>score</th>\n",
       "    </tr>\n",
       "  </thead>\n",
       "  <tbody>\n",
       "    <tr>\n",
       "      <th>1</th>\n",
       "      <td>Jabra Elite 7 Active True Wireless</td>\n",
       "      <td>Jabra</td>\n",
       "      <td>0.995775</td>\n",
       "      <td>0.724871</td>\n",
       "      <td>0.820312</td>\n",
       "      <td>0.888889</td>\n",
       "      <td>1.000000</td>\n",
       "    </tr>\n",
       "    <tr>\n",
       "      <th>2</th>\n",
       "      <td>Jabra Elite 7 Pro True Wireless</td>\n",
       "      <td>Jabra</td>\n",
       "      <td>0.968191</td>\n",
       "      <td>0.744201</td>\n",
       "      <td>0.820312</td>\n",
       "      <td>0.888889</td>\n",
       "      <td>0.991546</td>\n",
       "    </tr>\n",
       "    <tr>\n",
       "      <th>30</th>\n",
       "      <td>Apple AirPods Pro (2nd generation) Truly Wireless</td>\n",
       "      <td>Apple</td>\n",
       "      <td>0.844855</td>\n",
       "      <td>0.721649</td>\n",
       "      <td>0.984375</td>\n",
       "      <td>0.722222</td>\n",
       "      <td>0.958063</td>\n",
       "    </tr>\n",
       "    <tr>\n",
       "      <th>9</th>\n",
       "      <td>JBL TUNE 230NC TWS True Wireless</td>\n",
       "      <td>JBL</td>\n",
       "      <td>0.898352</td>\n",
       "      <td>0.753866</td>\n",
       "      <td>0.820312</td>\n",
       "      <td>0.888889</td>\n",
       "      <td>0.957538</td>\n",
       "    </tr>\n",
       "    <tr>\n",
       "      <th>12</th>\n",
       "      <td>Nothing Ear (2) Truly Wireless</td>\n",
       "      <td>Nothing</td>\n",
       "      <td>0.887986</td>\n",
       "      <td>0.639175</td>\n",
       "      <td>1.000000</td>\n",
       "      <td>0.833333</td>\n",
       "      <td>0.957495</td>\n",
       "    </tr>\n",
       "  </tbody>\n",
       "</table>\n",
       "</div>"
      ],
      "text/plain": [
       "                                              product    brand        sq  \\\n",
       "1                  Jabra Elite 7 Active True Wireless    Jabra  0.995775   \n",
       "2                     Jabra Elite 7 Pro True Wireless    Jabra  0.968191   \n",
       "30  Apple AirPods Pro (2nd generation) Truly Wireless    Apple  0.844855   \n",
       "9                    JBL TUNE 230NC TWS True Wireless      JBL  0.898352   \n",
       "12                     Nothing Ear (2) Truly Wireless  Nothing  0.887986   \n",
       "\n",
       "          bq       age        sp     score  \n",
       "1   0.724871  0.820312  0.888889  1.000000  \n",
       "2   0.744201  0.820312  0.888889  0.991546  \n",
       "30  0.721649  0.984375  0.722222  0.958063  \n",
       "9   0.753866  0.820312  0.888889  0.957538  \n",
       "12  0.639175  1.000000  0.833333  0.957495  "
      ]
     },
     "execution_count": 14,
     "metadata": {},
     "output_type": "execute_result"
    }
   ],
   "source": [
    "weights = {\n",
    "    \"sq\": 13,\n",
    "    \"bq\": 12,\n",
    "    \"age\":9,\n",
    "    \"sp\": 2,\n",
    "}\n",
    "w = weights\n",
    "winners = pd.DataFrame()\n",
    "winners[\"product\"] = l[\"product_name\"]\n",
    "winners[\"brand\"] = l[\"brand_name\"]\n",
    "winners[\"sq\"] = w[\"sq\"] * l[\"sound_quality\"]\n",
    "winners[\"bq\"] = w[\"bq\"] * l[\"build_quality\"]\n",
    "winners[\"age\"] = w[\"age\"] * l[\"age_score\"]\n",
    "winners[\"sp\"] = w[\"sp\"] * l[\"app\"]\n",
    "\n",
    "winners[\"score\"] = (winners[\"sq\"]**2 + winners[\"bq\"]**2 + winners[\"age\"]**2 + winners[\"sp\"]**2)**0.5\n",
    "# winners[\"sq\"]**power + winners[\"bq\"]**power + winners[\"age\"]**power + winners[\"sp\"]**power\n",
    "winners[\"sq\"] /= max(winners[\"sq\"])\n",
    "winners[\"bq\"] /= max(winners[\"bq\"])\n",
    "winners[\"age\"] /= max(winners[\"age\"])\n",
    "winners[\"sp\"] /= max(winners[\"sp\"])\n",
    "\n",
    "#out = l[[\"product_name\",\"score\", \"build_quality\", \"sound_quality\", \"age_score\", \"app\"]]\n",
    "#out = out.sort_values(by=[\"score\"], ascending=False)\n",
    "winners = winners.sort_values(by=[\"score\"], ascending=False)\n",
    "winners[\"score\"]/=max(winners[\"score\"])\n",
    "winners.head()"
   ]
  },
  {
   "cell_type": "code",
   "execution_count": 15,
   "id": "889454d5-77ad-41c8-ac25-0cc7c8801201",
   "metadata": {},
   "outputs": [
    {
     "name": "stdout",
     "output_type": "stream",
     "text": [
      "0.814835\n"
     ]
    }
   ],
   "source": [
    "winners[winners[\"brand\"]==\"Apple\"].head()\n",
    "print((0.958063+0.778570+0.707872)/3)"
   ]
  },
  {
   "cell_type": "code",
   "execution_count": 16,
   "id": "d1702805-5934-4ea7-b0ec-64dc4606f926",
   "metadata": {},
   "outputs": [
    {
     "data": {
      "text/html": [
       "<div>\n",
       "<style scoped>\n",
       "    .dataframe tbody tr th:only-of-type {\n",
       "        vertical-align: middle;\n",
       "    }\n",
       "\n",
       "    .dataframe tbody tr th {\n",
       "        vertical-align: top;\n",
       "    }\n",
       "\n",
       "    .dataframe thead th {\n",
       "        text-align: right;\n",
       "    }\n",
       "</style>\n",
       "<table border=\"1\" class=\"dataframe\">\n",
       "  <thead>\n",
       "    <tr style=\"text-align: right;\">\n",
       "      <th></th>\n",
       "      <th>product</th>\n",
       "      <th>brand</th>\n",
       "      <th>sq</th>\n",
       "      <th>bq</th>\n",
       "      <th>age</th>\n",
       "      <th>sp</th>\n",
       "      <th>score</th>\n",
       "    </tr>\n",
       "  </thead>\n",
       "  <tbody>\n",
       "    <tr>\n",
       "      <th>115</th>\n",
       "      <td>Sony WH-1000XM5 Wireless</td>\n",
       "      <td>Sony</td>\n",
       "      <td>0.672681</td>\n",
       "      <td>0.821521</td>\n",
       "      <td>0.861328</td>\n",
       "      <td>0.888889</td>\n",
       "      <td>0.887316</td>\n",
       "    </tr>\n",
       "  </tbody>\n",
       "</table>\n",
       "</div>"
      ],
      "text/plain": [
       "                      product brand        sq        bq       age        sp  \\\n",
       "115  Sony WH-1000XM5 Wireless  Sony  0.672681  0.821521  0.861328  0.888889   \n",
       "\n",
       "        score  \n",
       "115  0.887316  "
      ]
     },
     "execution_count": 16,
     "metadata": {},
     "output_type": "execute_result"
    }
   ],
   "source": [
    "winners[winners[\"product\"]==\"Sony WH-1000XM5 Wireless\"].head()"
   ]
  },
  {
   "cell_type": "code",
   "execution_count": 17,
   "id": "0229fee1-05b2-4812-92df-dea21fea7d42",
   "metadata": {},
   "outputs": [
    {
     "name": "stdout",
     "output_type": "stream",
     "text": [
      "                                          product_name test_methodology  \\\n",
      "52                  Jabra Elite 7 Active True Wireless             v1.5   \n",
      "46                     Jabra Elite 7 Pro True Wireless             v1.5   \n",
      "16   Apple AirPods Pro (2nd generation) Truly Wireless             v1.6   \n",
      "123                   JBL TUNE 230NC TWS True Wireless             v1.5   \n",
      "120                     Nothing Ear (2) Truly Wireless             v1.5   \n",
      "..                                                 ...              ...   \n",
      "288                      JBL Tune 225TWS True Wireless             v1.5   \n",
      "254                       Razer Nari Ultimate Wireless             v1.5   \n",
      "178               Insignia Digital Wireless Headphones             v1.5   \n",
      "135                   Status Between Pro True Wireless             v1.5   \n",
      "230                      OnePlus Buds Z Truly Wireless             v1.5   \n",
      "\n",
      "         price                                         price-href  \\\n",
      "52   SEE PRICE  http://www.amazon.com/gp/product/B09D15G8PG?ta...   \n",
      "46   SEE PRICE  http://www.amazon.com/gp/product/B09FVS676F?ta...   \n",
      "16   SEE PRICE  http://www.amazon.com/gp/product/B0BDHWDR12?ta...   \n",
      "123  SEE PRICE  http://www.amazon.com/gp/product/B09FM6PDHP?ta...   \n",
      "120  SEE PRICE  http://www.amazon.com/gp/product/B0C8HCSL1Z?ta...   \n",
      "..         ...                                                ...   \n",
      "288  SEE PRICE  http://www.amazon.com/gp/product/B088NDGYPX?ta...   \n",
      "254  SEE PRICE  http://www.amazon.com/gp/product/B07HZ6YWNB?ta...   \n",
      "178  SEE PRICE  https://shop-links.co/1788966003107134105?u1=r...   \n",
      "135  SEE PRICE  http://www.amazon.com/gp/product/B08PYSNG35?ta...   \n",
      "230  SEE PRICE  http://www.amazon.com/gp/product/B08K9YT25X?ta...   \n",
      "\n",
      "     release_year  neutral_sound  wireless_gaming headphone_type  comfort  \\\n",
      "52           2021            7.6              6.0         In-ear      7.5   \n",
      "46           2021            7.8              6.1         In-ear      7.5   \n",
      "16           2022            7.4              5.8         In-ear      7.5   \n",
      "123          2021            7.4              5.8         In-ear      7.5   \n",
      "120          2023            7.5              5.9         In-ear      7.5   \n",
      "..            ...            ...              ...            ...      ...   \n",
      "288          2020            5.9              4.9        Earbuds      6.5   \n",
      "254          2018            7.2              7.4       Over-ear      7.5   \n",
      "178          2019            6.2              5.5       Over-ear      7.0   \n",
      "135          2021            7.1              5.6         In-ear      7.0   \n",
      "230          2020            6.3              5.5         In-ear      7.5   \n",
      "\n",
      "       weight  ...  latency_sbc aac_support  brand_name  \\\n",
      "52   0.02 lbs  ...       238 ms         NaN       Jabra   \n",
      "46   0.03 lbs  ...       234 ms         NaN       Jabra   \n",
      "16   0.02 lbs  ...       160 ms        True       Apple   \n",
      "123  0.02 lbs  ...       323 ms         NaN         JBL   \n",
      "120  0.02 lbs  ...       278 ms         NaN     Nothing   \n",
      "..        ...  ...          ...         ...         ...   \n",
      "288  0.02 lbs  ...       325 ms         NaN         JBL   \n",
      "254   0.9 lbs  ...          NaN         NaN       Razer   \n",
      "178  0.47 lbs  ...          NaN         NaN    Insignia   \n",
      "135  0.03 lbs  ...       343 ms         NaN      Status   \n",
      "230  0.02 lbs  ...       150 ms         NaN     OnePlus   \n",
      "\n",
      "                                               product     brand        sq  \\\n",
      "52                  Jabra Elite 7 Active True Wireless     Jabra  0.995775   \n",
      "46                     Jabra Elite 7 Pro True Wireless     Jabra  0.968191   \n",
      "16   Apple AirPods Pro (2nd generation) Truly Wireless     Apple  0.844855   \n",
      "123                   JBL TUNE 230NC TWS True Wireless       JBL  0.898352   \n",
      "120                     Nothing Ear (2) Truly Wireless   Nothing  0.887986   \n",
      "..                                                 ...       ...       ...   \n",
      "288                      JBL Tune 225TWS True Wireless       JBL  0.394163   \n",
      "254                       Razer Nari Ultimate Wireless     Razer  0.444129   \n",
      "178               Insignia Digital Wireless Headphones  Insignia  0.273913   \n",
      "135                   Status Between Pro True Wireless    Status  0.777031   \n",
      "230                      OnePlus Buds Z Truly Wireless   OnePlus  0.730440   \n",
      "\n",
      "           bq       age        sp     score  \n",
      "52   0.724871  0.820312  0.888889  1.000000  \n",
      "46   0.744201  0.820312  0.888889  0.991546  \n",
      "16   0.721649  0.984375  0.722222  0.958063  \n",
      "123  0.753866  0.820312  0.888889  0.957538  \n",
      "120  0.639175  1.000000  0.833333  0.957495  \n",
      "..        ...       ...       ...       ...  \n",
      "288  0.523196  0.429688  0.000000  0.517646  \n",
      "254  0.502577  0.000000  0.944444  0.493475  \n",
      "178  0.569588  0.000000  0.000000  0.444294  \n",
      "135  0.734536  0.820312       NaN       NaN  \n",
      "230  0.628222  0.429688       NaN       NaN  \n",
      "\n",
      "[289 rows x 36 columns]\n"
     ]
    }
   ],
   "source": [
    "winners[\"product_name\"] = winners[\"product\"]\n",
    "final_data = pd.merge(data, winners, on=\"product_name\")\n",
    "final_data = final_data.sort_values(by=[\"score\"], ascending=False)\n",
    "print(final_data)"
   ]
  },
  {
   "cell_type": "code",
   "execution_count": 18,
   "id": "4b54d1fb-f927-419d-a75c-3893f5022c17",
   "metadata": {},
   "outputs": [],
   "source": [
    "if False:\n",
    "    for idx, row in final_data.iterrows():\n",
    "        print(\"{}\\t\\tScore: {}\".format(row[\"product\"],row[\"score\"]))"
   ]
  },
  {
   "cell_type": "code",
   "execution_count": 22,
   "id": "b0a0e6d9-3b78-400b-8545-cc7b6069ee3a",
   "metadata": {},
   "outputs": [
    {
     "data": {
      "image/png": "[encoded data removed]",
      "text/plain": [
       "<Figure size 640x480 with 4 Axes>"
      ]
     },
     "metadata": {},
     "output_type": "display_data"
    }
   ],
   "source": [
    "for i, width in enumerate([1, 5, 10, 15]):\n",
    "    \n",
    "    # Set up the plot\n",
    "    ax = plt.subplot(2, 2, i + 1)\n",
    "    \n",
    "    # Draw the plot\n",
    "    ax.hist(winners['score'], bins = int(180/width),\n",
    "             color = 'orange', edgecolor = 'black')\n",
    "    \n",
    "    # Title and labels\n",
    "    plt.title('Histogram with bin size {}'.format(width))\n",
    "    plt.xlabel('Score (out of 1)')\n",
    "    plt.ylabel('Headphones')\n",
    "\n",
    "plt.tight_layout()\n",
    "plt.show()"
   ]
  },
  {
   "cell_type": "code",
   "execution_count": 20,
   "id": "4f718f9f-5c39-4c97-be06-2ee743ea9f90",
   "metadata": {},
   "outputs": [
    {
     "data": {
      "text/plain": [
       "Text(0, 0.5, 'Headphones')"
      ]
     },
     "execution_count": 20,
     "metadata": {},
     "output_type": "execute_result"
    },
    {
     "data": {
      "image/png": "[encoded data removed]",
      "text/plain": [
       "<Figure size 640x480 with 1 Axes>"
      ]
     },
     "metadata": {},
     "output_type": "display_data"
    }
   ],
   "source": [
    "sns.distplot(winners['score'], hist=True, kde=True, \n",
    "             bins=int(50), color = 'orange', \n",
    "             hist_kws={'edgecolor':'black'},\n",
    "             kde_kws={'linewidth': 4})\n",
    "plt.title('Distribution Graph for Scores')\n",
    "plt.xlabel('Score (out of 1)')\n",
    "plt.ylabel('Headphones')"
   ]
  },
  {
   "cell_type": "code",
   "execution_count": 21,
   "id": "2ff1feed-3fdf-4184-b634-8702b30763d9",
   "metadata": {},
   "outputs": [
    {
     "name": "stdout",
     "output_type": "stream",
     "text": [
      "                  score_x   score_y\n",
      "brand                              \n",
      "Jabra                  16  0.840316\n",
      "Bose                   14  0.820126\n",
      "Samsung                 6  0.802261\n",
      "JBL                    27  0.790893\n",
      "Apple                   5  0.782186\n",
      "Bowers & Wilkins        5  0.782040\n",
      "Sennheiser             11  0.780333\n",
      "Anker                  16  0.774613\n",
      "Sony                   31  0.759414\n"
     ]
    }
   ],
   "source": [
    "count = winners.groupby(by=[\"brand\"])[\"score\"].count()\n",
    "mean = winners.groupby(by=[\"brand\"])[\"score\"].mean()\n",
    "average = winners[\"score\"].mean()\n",
    "brands = pd.merge(count, mean, on=\"brand\")\n",
    "#print(brands.sort_values(by=[\"score_x\", \"score_y\"], ascending=False))\n",
    "# brands[\"optimized\"] = ((brands[\"score_x\"]/max(brands[\"score_x\"]))**2+(brands[\"score_y\"])**2)**(1/2)\n",
    "limited = brands[brands[\"score_y\"]>average]\n",
    "limited = limited[limited[\"score_x\"]>4]\n",
    "\n",
    "print(limited.sort_values(by=[\"score_y\"], ascending=False))\n"
   ]
  }
 ],
 "metadata": {
  "kernelspec": {
   "display_name": "Python 3 (ipykernel)",
   "language": "python",
   "name": "python3"
  },
  "language_info": {
   "codemirror_mode": {
    "name": "ipython",
    "version": 3
   },
   "file_extension": ".py",
   "mimetype": "text/x-python",
   "name": "python",
   "nbconvert_exporter": "python",
   "pygments_lexer": "ipython3",
   "version": "3.11.6"
  }
 },
 "nbformat": 4,
 "nbformat_minor": 5
}
